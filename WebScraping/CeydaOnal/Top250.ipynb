{
 "cells": [
  {
   "cell_type": "code",
   "execution_count": 2,
   "id": "83795324",
   "metadata": {},
   "outputs": [
    {
     "name": "stdout",
     "output_type": "stream",
     "text": [
      "Average rating: 8.25\n",
      "Mode rating: 8.10\n",
      "Median rating: 8.20\n",
      "Minimum rating: 8.00\n",
      "Maximum rating: 9.20\n",
      "Standard deviation: 0.24\n"
     ]
    }
   ],
   "source": [
    "import requests\n",
    "from bs4 import BeautifulSoup\n",
    "import statistics\n",
    "\n",
    "url = 'https://www.imdb.com/chart/top/'\n",
    "\n",
    "response = requests.get(url)\n",
    "\n",
    "soup = BeautifulSoup(response.text, 'html.parser')\n",
    "\n",
    "movies = soup.select('td.titleColumn')\n",
    "ratings = soup.select('td.ratingColumn.imdbRating')\n",
    "\n",
    "movie_titles = [movie.a.text for movie in movies]\n",
    "movie_ratings = [float(rating.strong.text) for rating in ratings]\n",
    "\n",
    "average_rating = statistics.mean(movie_ratings)\n",
    "mode_rating = statistics.mode(movie_ratings)\n",
    "median_rating = statistics.median(movie_ratings)\n",
    "min_rating = min(movie_ratings)\n",
    "max_rating = max(movie_ratings)\n",
    "std_deviation = statistics.stdev(movie_ratings)\n",
    "\n",
    "print(f\"Average rating: {average_rating:.2f}\")\n",
    "print(f\"Mode rating: {mode_rating:.2f}\")\n",
    "print(f\"Median rating: {median_rating:.2f}\")\n",
    "print(f\"Minimum rating: {min_rating:.2f}\")\n",
    "print(f\"Maximum rating: {max_rating:.2f}\")\n",
    "print(f\"Standard deviation: {std_deviation:.2f}\")\n"
   ]
  },
  {
   "cell_type": "code",
   "execution_count": null,
   "id": "a1e5524b",
   "metadata": {},
   "outputs": [],
   "source": []
  }
 ],
 "metadata": {
  "kernelspec": {
   "display_name": "Python 3 (ipykernel)",
   "language": "python",
   "name": "python3"
  },
  "language_info": {
   "codemirror_mode": {
    "name": "ipython",
    "version": 3
   },
   "file_extension": ".py",
   "mimetype": "text/x-python",
   "name": "python",
   "nbconvert_exporter": "python",
   "pygments_lexer": "ipython3",
   "version": "3.9.12"
  }
 },
 "nbformat": 4,
 "nbformat_minor": 5
}
