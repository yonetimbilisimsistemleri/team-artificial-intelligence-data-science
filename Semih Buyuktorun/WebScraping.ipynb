{
 "cells": [
  {
   "cell_type": "code",
   "execution_count": 1,
   "id": "d65bdc29",
   "metadata": {},
   "outputs": [],
   "source": [
    "import time \n",
    "from selenium import webdriver\n",
    "import webbrowser\n",
    "from selenium.webdriver.common.by import By\n",
    "from bs4 import BeautifulSoup\n",
    "import requests"
   ]
  },
  {
   "cell_type": "code",
   "execution_count": null,
   "id": "4d367bcf",
   "metadata": {},
   "outputs": [],
   "source": [
    "baslik = \"iphone\"\n",
    "#baslik = input(\"aranan değer: \")\n",
    "url = \"https://www.sikayetvar.com/sikayetler\"\n",
    "browser = webdriver.Chrome()\n",
    "\n",
    "time.sleep(4)\n",
    "browser.get(url)\n",
    "print(\"url açıldı\")\n",
    "input_area = browser.find_element(By.ID,\"text-autocomplete\")\n",
    "print(\"arama butonu bulundu\")\n",
    "browser.maximize_window()\n",
    "print(\"tam ekran yapıldı\")\n",
    "\n",
    "input_area.send_keys(baslik)\n",
    "print(\"arama yerine key gönderildi\")\n",
    "button = browser.find_element(By.XPATH,\"//*[@id='header-autocomplete']/button\")\n",
    "print(\"button bulundu\")\n",
    "button.click()\n",
    "print(\"butona tıklandı\")\n",
    "time.sleep(4)\n",
    "url = browser.current_url\n",
    "source = browser.page_source\n",
    "soup = BeautifulSoup(source, \"html.parser\")\n",
    "print(\"url,source,soup atandı\")\n",
    "print(url)\n",
    "#//[@id=\"main-content\"]/div[1]/div[2]/article[7]/section\n",
    "#//[@id=\"main-content\"]/div[1]/div[2]/article[8]/section\n",
    "page_count = soup.find(\"div\", {\"class\": \"pagination-wrap\"}).find(\"ul\", {\"class\": \"pagination ga-v ga-c\"}).find_all(\"li\")[6].get_text(strip=True)\n",
    "#eğer son sayfa numarasının yeri sabit olsaydı buradan yapabilirdik\n",
    "#sayfa = browser.find_element(By.XPATH,\"//[@id='main-content']/div[1]/div[2]/div[9]/ul/li[7]\")\n",
    "sayfa = int(page_count)\n",
    "print(\"sayfa sayısı:\" , sayfa)\n",
    "articles = browser.find_elements(By.TAG_NAME,\"article\")\n",
    "for page in range(2,sayfa+1):\n",
    "    response = requests.get(url + baslik +\"?page=\" )#str(i), headers=headers\n",
    "    #print(url + \"?p=\" + str(i))\n",
    "    time.sleep(2)\n",
    "    for article in articles:\n",
    "        sections = article.find_elements(By.TAG_NAME, \"section\")\n",
    "        for section in sections:\n",
    "            a_element = section.find_element(By.TAG_NAME, \"a\")\n",
    "            text = a_element.text\n",
    "            print(\"Başlık: \",text)\n",
    "            print(\"**\")\n",
    "            # section içindeki p etiketindeki metni al\n",
    "            p_element = section.find_element(By.TAG_NAME, \"p\")\n",
    "            text = p_element.text\n",
    "            print(\"Şikayet: \",text)\n",
    "            print(\"***\")\n"
   ]
  },
  {
   "cell_type": "code",
   "execution_count": null,
   "id": "d3c4ef0e",
   "metadata": {},
   "outputs": [],
   "source": []
  },
  {
   "cell_type": "code",
   "execution_count": null,
   "id": "348ec89e",
   "metadata": {},
   "outputs": [],
   "source": []
  }
 ],
 "metadata": {
  "kernelspec": {
   "display_name": "Python 3 (ipykernel)",
   "language": "python",
   "name": "python3"
  },
  "language_info": {
   "codemirror_mode": {
    "name": "ipython",
    "version": 3
   },
   "file_extension": ".py",
   "mimetype": "text/x-python",
   "name": "python",
   "nbconvert_exporter": "python",
   "pygments_lexer": "ipython3",
   "version": "3.9.13"
  }
 },
 "nbformat": 4,
 "nbformat_minor": 5
}
